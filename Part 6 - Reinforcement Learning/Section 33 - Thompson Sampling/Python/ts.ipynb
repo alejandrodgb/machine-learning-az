{
 "cells": [
  {
   "cell_type": "code",
   "execution_count": 2,
   "id": "8cdd1f16-3b94-4a2d-ba86-226b351528fa",
   "metadata": {},
   "outputs": [],
   "source": [
    "import pandas as pd\n",
    "import numpy as np\n",
    "import matplotlib.pyplot as plt"
   ]
  },
  {
   "cell_type": "markdown",
   "id": "b8a26e41-dd63-456e-8954-6ce6c62eb7a0",
   "metadata": {},
   "source": [
    "# Data"
   ]
  },
  {
   "cell_type": "markdown",
   "id": "7d4dd389-2058-4c40-a780-d503b94a2df5",
   "metadata": {},
   "source": [
    "## Import"
   ]
  },
  {
   "cell_type": "code",
   "execution_count": 3,
   "id": "a657fc6e-7cdb-4cf2-990b-1d441771857e",
   "metadata": {},
   "outputs": [
    {
     "data": {
      "text/html": [
       "<div>\n",
       "<style scoped>\n",
       "    .dataframe tbody tr th:only-of-type {\n",
       "        vertical-align: middle;\n",
       "    }\n",
       "\n",
       "    .dataframe tbody tr th {\n",
       "        vertical-align: top;\n",
       "    }\n",
       "\n",
       "    .dataframe thead th {\n",
       "        text-align: right;\n",
       "    }\n",
       "</style>\n",
       "<table border=\"1\" class=\"dataframe\">\n",
       "  <thead>\n",
       "    <tr style=\"text-align: right;\">\n",
       "      <th></th>\n",
       "      <th>Ad 1</th>\n",
       "      <th>Ad 2</th>\n",
       "      <th>Ad 3</th>\n",
       "      <th>Ad 4</th>\n",
       "      <th>Ad 5</th>\n",
       "      <th>Ad 6</th>\n",
       "      <th>Ad 7</th>\n",
       "      <th>Ad 8</th>\n",
       "      <th>Ad 9</th>\n",
       "      <th>Ad 10</th>\n",
       "    </tr>\n",
       "  </thead>\n",
       "  <tbody>\n",
       "    <tr>\n",
       "      <th>0</th>\n",
       "      <td>1</td>\n",
       "      <td>0</td>\n",
       "      <td>0</td>\n",
       "      <td>0</td>\n",
       "      <td>1</td>\n",
       "      <td>0</td>\n",
       "      <td>0</td>\n",
       "      <td>0</td>\n",
       "      <td>1</td>\n",
       "      <td>0</td>\n",
       "    </tr>\n",
       "    <tr>\n",
       "      <th>1</th>\n",
       "      <td>0</td>\n",
       "      <td>0</td>\n",
       "      <td>0</td>\n",
       "      <td>0</td>\n",
       "      <td>0</td>\n",
       "      <td>0</td>\n",
       "      <td>0</td>\n",
       "      <td>0</td>\n",
       "      <td>1</td>\n",
       "      <td>0</td>\n",
       "    </tr>\n",
       "    <tr>\n",
       "      <th>2</th>\n",
       "      <td>0</td>\n",
       "      <td>0</td>\n",
       "      <td>0</td>\n",
       "      <td>0</td>\n",
       "      <td>0</td>\n",
       "      <td>0</td>\n",
       "      <td>0</td>\n",
       "      <td>0</td>\n",
       "      <td>0</td>\n",
       "      <td>0</td>\n",
       "    </tr>\n",
       "    <tr>\n",
       "      <th>3</th>\n",
       "      <td>0</td>\n",
       "      <td>1</td>\n",
       "      <td>0</td>\n",
       "      <td>0</td>\n",
       "      <td>0</td>\n",
       "      <td>0</td>\n",
       "      <td>0</td>\n",
       "      <td>1</td>\n",
       "      <td>0</td>\n",
       "      <td>0</td>\n",
       "    </tr>\n",
       "    <tr>\n",
       "      <th>4</th>\n",
       "      <td>0</td>\n",
       "      <td>0</td>\n",
       "      <td>0</td>\n",
       "      <td>0</td>\n",
       "      <td>0</td>\n",
       "      <td>0</td>\n",
       "      <td>0</td>\n",
       "      <td>0</td>\n",
       "      <td>0</td>\n",
       "      <td>0</td>\n",
       "    </tr>\n",
       "  </tbody>\n",
       "</table>\n",
       "</div>"
      ],
      "text/plain": [
       "   Ad 1  Ad 2  Ad 3  Ad 4  Ad 5  Ad 6  Ad 7  Ad 8  Ad 9  Ad 10\n",
       "0     1     0     0     0     1     0     0     0     1      0\n",
       "1     0     0     0     0     0     0     0     0     1      0\n",
       "2     0     0     0     0     0     0     0     0     0      0\n",
       "3     0     1     0     0     0     0     0     1     0      0\n",
       "4     0     0     0     0     0     0     0     0     0      0"
      ]
     },
     "execution_count": 3,
     "metadata": {},
     "output_type": "execute_result"
    }
   ],
   "source": [
    "dataset = pd.read_csv('Ads_CTR_Optimisation.csv')\n",
    "dataset.head()"
   ]
  },
  {
   "cell_type": "code",
   "execution_count": 4,
   "id": "709073e1-2187-4cb9-89fc-35db9b33a460",
   "metadata": {},
   "outputs": [
    {
     "data": {
      "text/plain": [
       "(10000, 10)"
      ]
     },
     "execution_count": 4,
     "metadata": {},
     "output_type": "execute_result"
    }
   ],
   "source": [
    "dataset.shape"
   ]
  },
  {
   "cell_type": "markdown",
   "id": "8078b385-ba44-4ea1-acd1-84365128c6c6",
   "metadata": {},
   "source": [
    "# Thompson Sampling Algorithm"
   ]
  },
  {
   "cell_type": "markdown",
   "id": "6eef2e38-ce0b-4720-baaf-5282f7a2e4a0",
   "metadata": {},
   "source": [
    "## Simulation"
   ]
  },
  {
   "cell_type": "code",
   "execution_count": 7,
   "id": "6c819fda-3948-4146-bf38-4dee85cd64cc",
   "metadata": {
    "scrolled": true
   },
   "outputs": [],
   "source": [
    "import random\n",
    "N = 500\n",
    "d = 10\n",
    "ads_selected = []\n",
    "n1 = np.zeros(d)\n",
    "n0 = np.zeros(d)\n",
    "total_reward = 0\n",
    "\n",
    "# Start looping from the rounds\n",
    "for n in range(N):\n",
    "    ad = 0 # Index of the add that has been selected\n",
    "    max_random = 0 # Max random draw\n",
    "\n",
    "    # Loop through all the adds\n",
    "    for i in range(d):\n",
    "\n",
    "        # Random draw from beta distribution\n",
    "        random_beta = random.betavariate(n1[i]+1,n0[i]+1)\n",
    "\n",
    "        # Select the ad that has the highest beta\n",
    "        if (random_beta > max_random):\n",
    "            max_random = random_beta\n",
    "            ad = i\n",
    "\n",
    "    ads_selected.append(ad)\n",
    "    reward = dataset.values[n,ad]\n",
    "    if reward==1:\n",
    "        n1[ad]+=1\n",
    "    else:\n",
    "        n0[ad]+=1\n",
    "    total_reward+=reward"
   ]
  },
  {
   "cell_type": "markdown",
   "id": "a69e3fde-807f-42e4-a8f6-450b70e1d70f",
   "metadata": {},
   "source": [
    "# Visualisation"
   ]
  },
  {
   "cell_type": "code",
   "execution_count": 8,
   "id": "5ffe9407-0a42-40d9-ba56-4a31c00eeb41",
   "metadata": {},
   "outputs": [
    {
     "data": {
      "image/png": "[encoded data removed]",
      "text/plain": [
       "<Figure size 640x480 with 1 Axes>"
      ]
     },
     "metadata": {},
     "output_type": "display_data"
    }
   ],
   "source": [
    "plt.hist(ads_selected)\n",
    "plt.title('Histogram of ads selection')\n",
    "plt.xlabel('Ad')\n",
    "plt.ylabel('Frequency')\n",
    "plt.grid();"
   ]
  },
  {
   "cell_type": "code",
   "execution_count": 9,
   "id": "f88db534-d3de-481c-a859-53609d037364",
   "metadata": {},
   "outputs": [],
   "source": [
    "from ipywidgets import interact, IntSlider"
   ]
  },
  {
   "cell_type": "code",
   "execution_count": 12,
   "id": "54c3121b-485d-4f42-9883-0bb954b4975a",
   "metadata": {},
   "outputs": [
    {
     "data": {
      "application/vnd.jupyter.widget-view+json": {
       "model_id": "38e14530167d473689071e193dcd44de",
       "version_major": 2,
       "version_minor": 0
      },
      "text/plain": [
       "interactive(children=(IntSlider(value=10000, description='n', max=10000, step=100), Output()), _dom_classes=('…"
      ]
     },
     "metadata": {},
     "output_type": "display_data"
    }
   ],
   "source": [
    "@interact(n=IntSlider(min=0,max=10000,step=100,value=10000))\n",
    "def ts(n):\n",
    "    N = n\n",
    "    d = 10\n",
    "    ads_selected = []\n",
    "    n1 = np.zeros(d)\n",
    "    n0 = np.zeros(d)\n",
    "    total_reward = 0\n",
    "    \n",
    "    # Start looping from the rounds\n",
    "    for n in range(N):\n",
    "        ad = 0 # Index of the add that has been selected\n",
    "        max_random = 0 # Max random draw\n",
    "    \n",
    "        # Loop through all the adds\n",
    "        for i in range(d):\n",
    "    \n",
    "            # Random draw from beta distribution\n",
    "            random_beta = random.betavariate(n1[i]+1,n0[i]+1)\n",
    "    \n",
    "            # Select the ad that has the highest beta\n",
    "            if (random_beta > max_random):\n",
    "                max_random = random_beta\n",
    "                ad = i\n",
    "    \n",
    "        ads_selected.append(ad)\n",
    "        reward = dataset.values[n,ad]\n",
    "        if reward==1:\n",
    "            n1[ad]+=1\n",
    "        else:\n",
    "            n0[ad]+=1\n",
    "        total_reward+=reward\n",
    "\n",
    "    plt.hist(ads_selected)\n",
    "    plt.title('Histogram of ads selection')\n",
    "    plt.xlabel('Ad')\n",
    "    plt.ylabel('Frequency')\n",
    "    plt.grid()\n",
    "    plt.show()\n"
   ]
  }
 ],
 "metadata": {
  "kernelspec": {
   "display_name": "Python 3 (ipykernel)",
   "language": "python",
   "name": "python3"
  },
  "language_info": {
   "codemirror_mode": {
    "name": "ipython",
    "version": 3
   },
   "file_extension": ".py",
   "mimetype": "text/x-python",
   "name": "python",
   "nbconvert_exporter": "python",
   "pygments_lexer": "ipython3",
   "version": "3.12.4"
  }
 },
 "nbformat": 4,
 "nbformat_minor": 5
}
