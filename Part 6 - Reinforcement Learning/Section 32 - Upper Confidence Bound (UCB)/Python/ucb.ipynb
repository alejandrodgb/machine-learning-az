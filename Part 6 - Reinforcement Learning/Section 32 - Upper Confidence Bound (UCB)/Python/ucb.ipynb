{
 "cells": [
  {
   "cell_type": "code",
   "execution_count": 2,
   "id": "8cdd1f16-3b94-4a2d-ba86-226b351528fa",
   "metadata": {
    "editable": true,
    "slideshow": {
     "slide_type": ""
    },
    "tags": []
   },
   "outputs": [],
   "source": [
    "import pandas as pd\n",
    "import numpy as np\n",
    "import matplotlib.pyplot as plt"
   ]
  },
  {
   "cell_type": "markdown",
   "id": "b8a26e41-dd63-456e-8954-6ce6c62eb7a0",
   "metadata": {},
   "source": [
    "# Data"
   ]
  },
  {
   "cell_type": "markdown",
   "id": "7d4dd389-2058-4c40-a780-d503b94a2df5",
   "metadata": {},
   "source": [
    "## Import"
   ]
  },
  {
   "cell_type": "code",
   "execution_count": 3,
   "id": "a657fc6e-7cdb-4cf2-990b-1d441771857e",
   "metadata": {},
   "outputs": [
    {
     "data": {
      "text/html": [
       "<div>\n",
       "<style scoped>\n",
       "    .dataframe tbody tr th:only-of-type {\n",
       "        vertical-align: middle;\n",
       "    }\n",
       "\n",
       "    .dataframe tbody tr th {\n",
       "        vertical-align: top;\n",
       "    }\n",
       "\n",
       "    .dataframe thead th {\n",
       "        text-align: right;\n",
       "    }\n",
       "</style>\n",
       "<table border=\"1\" class=\"dataframe\">\n",
       "  <thead>\n",
       "    <tr style=\"text-align: right;\">\n",
       "      <th></th>\n",
       "      <th>Ad 1</th>\n",
       "      <th>Ad 2</th>\n",
       "      <th>Ad 3</th>\n",
       "      <th>Ad 4</th>\n",
       "      <th>Ad 5</th>\n",
       "      <th>Ad 6</th>\n",
       "      <th>Ad 7</th>\n",
       "      <th>Ad 8</th>\n",
       "      <th>Ad 9</th>\n",
       "      <th>Ad 10</th>\n",
       "    </tr>\n",
       "  </thead>\n",
       "  <tbody>\n",
       "    <tr>\n",
       "      <th>0</th>\n",
       "      <td>1</td>\n",
       "      <td>0</td>\n",
       "      <td>0</td>\n",
       "      <td>0</td>\n",
       "      <td>1</td>\n",
       "      <td>0</td>\n",
       "      <td>0</td>\n",
       "      <td>0</td>\n",
       "      <td>1</td>\n",
       "      <td>0</td>\n",
       "    </tr>\n",
       "    <tr>\n",
       "      <th>1</th>\n",
       "      <td>0</td>\n",
       "      <td>0</td>\n",
       "      <td>0</td>\n",
       "      <td>0</td>\n",
       "      <td>0</td>\n",
       "      <td>0</td>\n",
       "      <td>0</td>\n",
       "      <td>0</td>\n",
       "      <td>1</td>\n",
       "      <td>0</td>\n",
       "    </tr>\n",
       "    <tr>\n",
       "      <th>2</th>\n",
       "      <td>0</td>\n",
       "      <td>0</td>\n",
       "      <td>0</td>\n",
       "      <td>0</td>\n",
       "      <td>0</td>\n",
       "      <td>0</td>\n",
       "      <td>0</td>\n",
       "      <td>0</td>\n",
       "      <td>0</td>\n",
       "      <td>0</td>\n",
       "    </tr>\n",
       "    <tr>\n",
       "      <th>3</th>\n",
       "      <td>0</td>\n",
       "      <td>1</td>\n",
       "      <td>0</td>\n",
       "      <td>0</td>\n",
       "      <td>0</td>\n",
       "      <td>0</td>\n",
       "      <td>0</td>\n",
       "      <td>1</td>\n",
       "      <td>0</td>\n",
       "      <td>0</td>\n",
       "    </tr>\n",
       "    <tr>\n",
       "      <th>4</th>\n",
       "      <td>0</td>\n",
       "      <td>0</td>\n",
       "      <td>0</td>\n",
       "      <td>0</td>\n",
       "      <td>0</td>\n",
       "      <td>0</td>\n",
       "      <td>0</td>\n",
       "      <td>0</td>\n",
       "      <td>0</td>\n",
       "      <td>0</td>\n",
       "    </tr>\n",
       "  </tbody>\n",
       "</table>\n",
       "</div>"
      ],
      "text/plain": [
       "   Ad 1  Ad 2  Ad 3  Ad 4  Ad 5  Ad 6  Ad 7  Ad 8  Ad 9  Ad 10\n",
       "0     1     0     0     0     1     0     0     0     1      0\n",
       "1     0     0     0     0     0     0     0     0     1      0\n",
       "2     0     0     0     0     0     0     0     0     0      0\n",
       "3     0     1     0     0     0     0     0     1     0      0\n",
       "4     0     0     0     0     0     0     0     0     0      0"
      ]
     },
     "execution_count": 3,
     "metadata": {},
     "output_type": "execute_result"
    }
   ],
   "source": [
    "dataset = pd.read_csv('Ads_CTR_Optimisation.csv')\n",
    "dataset.head()"
   ]
  },
  {
   "cell_type": "code",
   "execution_count": 4,
   "id": "709073e1-2187-4cb9-89fc-35db9b33a460",
   "metadata": {},
   "outputs": [
    {
     "data": {
      "text/plain": [
       "(10000, 10)"
      ]
     },
     "execution_count": 4,
     "metadata": {},
     "output_type": "execute_result"
    }
   ],
   "source": [
    "dataset.shape"
   ]
  },
  {
   "cell_type": "markdown",
   "id": "8078b385-ba44-4ea1-acd1-84365128c6c6",
   "metadata": {},
   "source": [
    "# UCB Algorithm"
   ]
  },
  {
   "cell_type": "markdown",
   "id": "c2ba0f95-772a-4ac5-b2a5-7b50f70736cb",
   "metadata": {},
   "source": [
    "1. At each round, we consider two numbers for each ad $i$:\n",
    "    - $N_i(n)$ - the number of times the ad $i$ was selected up to round $n$\n",
    "    - $R_i(n)$ - the sum of rewards of the ad $i$ up to round $n$\n",
    "2. From these two numbers we compute:\n",
    "    - Average reward of ad $i$ up to round $n$\n",
    "      \n",
    "      $\\overline{r}_i(n) = \\frac{R_i(n)}{N_i(n)}$\n",
    "\n",
    "    - The confidence interval $[\\overline{r}_i(n) - \\Delta_i(n) , \\overline{r}_i(n) + \\Delta_i(n)]$ at round $n$ with\n",
    "  \n",
    "      $\\Delta_i(n) = \\sqrt{\\frac{3 log(n)}{2N_i(n)}}$\n",
    "\n",
    "3. We select the ad $i$ that has the maximum UCB $\\overline{r}_i(n) + \\Delta_i(n)$\n"
   ]
  },
  {
   "cell_type": "code",
   "execution_count": 5,
   "id": "1e28ac12-e8df-4bb9-8467-338d72e78bb5",
   "metadata": {},
   "outputs": [],
   "source": [
    "import math"
   ]
  },
  {
   "cell_type": "markdown",
   "id": "6eef2e38-ce0b-4720-baaf-5282f7a2e4a0",
   "metadata": {},
   "source": [
    "## Simulation"
   ]
  },
  {
   "cell_type": "code",
   "execution_count": 6,
   "id": "6c819fda-3948-4146-bf38-4dee85cd64cc",
   "metadata": {
    "scrolled": true
   },
   "outputs": [],
   "source": [
    "N = 1000\n",
    "d = 10\n",
    "ads_selected = []\n",
    "numbers_of_selections = [0]*d\n",
    "sum_of_rewards = [0]*d\n",
    "total_reward = 0\n",
    "\n",
    "for n in range(N):\n",
    "    ad = 0\n",
    "    max_upper_bound = 0\n",
    "    for i in range(d):\n",
    "        if (numbers_of_selections[i]>0):\n",
    "            avg_reward = sum_of_rewards[i] / numbers_of_selections[i]\n",
    "            delta_i = math.sqrt(3/2*math.log(n+1)/numbers_of_selections[i])\n",
    "            upper_bound = avg_reward + delta_i\n",
    "        else:\n",
    "            upper_bound = 1e400\n",
    "        if upper_bound > max_upper_bound:\n",
    "            max_upper_bound = upper_bound\n",
    "            ad = i\n",
    "    ads_selected.append(ad)\n",
    "    numbers_of_selections[ad] += 1\n",
    "    reward = dataset.values[n,ad]\n",
    "    sum_of_rewards[ad] = sum_of_rewards[ad] + reward\n",
    "    total_reward = total_reward + reward"
   ]
  },
  {
   "cell_type": "markdown",
   "id": "a69e3fde-807f-42e4-a8f6-450b70e1d70f",
   "metadata": {},
   "source": [
    "# Visualisation"
   ]
  },
  {
   "cell_type": "code",
   "execution_count": 7,
   "id": "5ffe9407-0a42-40d9-ba56-4a31c00eeb41",
   "metadata": {},
   "outputs": [
    {
     "data": {
      "image/png": "[encoded data removed]",
      "text/plain": [
       "<Figure size 640x480 with 1 Axes>"
      ]
     },
     "metadata": {},
     "output_type": "display_data"
    }
   ],
   "source": [
    "plt.hist(ads_selected)\n",
    "plt.title('Histogram of ads selection')\n",
    "plt.xlabel('Ad')\n",
    "plt.ylabel('Frequency')\n",
    "plt.grid();"
   ]
  }
 ],
 "metadata": {
  "kernelspec": {
   "display_name": "Python 3 (ipykernel)",
   "language": "python",
   "name": "python3"
  },
  "language_info": {
   "codemirror_mode": {
    "name": "ipython",
    "version": 3
   },
   "file_extension": ".py",
   "mimetype": "text/x-python",
   "name": "python",
   "nbconvert_exporter": "python",
   "pygments_lexer": "ipython3",
   "version": "3.12.4"
  }
 },
 "nbformat": 4,
 "nbformat_minor": 5
}
