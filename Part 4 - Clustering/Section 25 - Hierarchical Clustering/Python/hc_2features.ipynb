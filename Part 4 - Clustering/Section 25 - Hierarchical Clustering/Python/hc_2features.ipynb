{
 "cells": [
  {
   "cell_type": "code",
   "execution_count": 1,
   "id": "77a07ae8-a37b-4149-b7b9-02d33a3d6049",
   "metadata": {},
   "outputs": [],
   "source": [
    "import pandas as pd\n",
    "import numpy as np\n",
    "import matplotlib.pyplot as plt"
   ]
  },
  {
   "cell_type": "markdown",
   "id": "f072a090-e66c-48b6-bc44-6de515c53731",
   "metadata": {},
   "source": [
    "# Data"
   ]
  },
  {
   "cell_type": "markdown",
   "id": "629ccef5-7f47-4816-a845-40e6d3203a71",
   "metadata": {},
   "source": [
    "## Import"
   ]
  },
  {
   "cell_type": "code",
   "execution_count": 2,
   "id": "4064ef0a-125d-4931-8c8d-972577100c66",
   "metadata": {},
   "outputs": [
    {
     "data": {
      "text/html": [
       "<div>\n",
       "<style scoped>\n",
       "    .dataframe tbody tr th:only-of-type {\n",
       "        vertical-align: middle;\n",
       "    }\n",
       "\n",
       "    .dataframe tbody tr th {\n",
       "        vertical-align: top;\n",
       "    }\n",
       "\n",
       "    .dataframe thead th {\n",
       "        text-align: right;\n",
       "    }\n",
       "</style>\n",
       "<table border=\"1\" class=\"dataframe\">\n",
       "  <thead>\n",
       "    <tr style=\"text-align: right;\">\n",
       "      <th></th>\n",
       "      <th>CustomerID</th>\n",
       "      <th>Genre</th>\n",
       "      <th>Age</th>\n",
       "      <th>Annual Income (k$)</th>\n",
       "      <th>Spending Score (1-100)</th>\n",
       "    </tr>\n",
       "  </thead>\n",
       "  <tbody>\n",
       "    <tr>\n",
       "      <th>198</th>\n",
       "      <td>199</td>\n",
       "      <td>Male</td>\n",
       "      <td>32</td>\n",
       "      <td>137</td>\n",
       "      <td>18</td>\n",
       "    </tr>\n",
       "    <tr>\n",
       "      <th>115</th>\n",
       "      <td>116</td>\n",
       "      <td>Female</td>\n",
       "      <td>19</td>\n",
       "      <td>65</td>\n",
       "      <td>50</td>\n",
       "    </tr>\n",
       "    <tr>\n",
       "      <th>121</th>\n",
       "      <td>122</td>\n",
       "      <td>Female</td>\n",
       "      <td>38</td>\n",
       "      <td>67</td>\n",
       "      <td>40</td>\n",
       "    </tr>\n",
       "    <tr>\n",
       "      <th>12</th>\n",
       "      <td>13</td>\n",
       "      <td>Female</td>\n",
       "      <td>58</td>\n",
       "      <td>20</td>\n",
       "      <td>15</td>\n",
       "    </tr>\n",
       "    <tr>\n",
       "      <th>187</th>\n",
       "      <td>188</td>\n",
       "      <td>Male</td>\n",
       "      <td>28</td>\n",
       "      <td>101</td>\n",
       "      <td>68</td>\n",
       "    </tr>\n",
       "  </tbody>\n",
       "</table>\n",
       "</div>"
      ],
      "text/plain": [
       "     CustomerID   Genre  Age  Annual Income (k$)  Spending Score (1-100)\n",
       "198         199    Male   32                 137                      18\n",
       "115         116  Female   19                  65                      50\n",
       "121         122  Female   38                  67                      40\n",
       "12           13  Female   58                  20                      15\n",
       "187         188    Male   28                 101                      68"
      ]
     },
     "execution_count": 2,
     "metadata": {},
     "output_type": "execute_result"
    }
   ],
   "source": [
    "dataset = pd.read_csv('Mall_Customers.csv')\n",
    "dataset.sample(5)"
   ]
  },
  {
   "cell_type": "code",
   "execution_count": 3,
   "id": "f7357a24-2694-4552-931e-fccb14671580",
   "metadata": {},
   "outputs": [
    {
     "data": {
      "text/html": [
       "<div>\n",
       "<style scoped>\n",
       "    .dataframe tbody tr th:only-of-type {\n",
       "        vertical-align: middle;\n",
       "    }\n",
       "\n",
       "    .dataframe tbody tr th {\n",
       "        vertical-align: top;\n",
       "    }\n",
       "\n",
       "    .dataframe thead th {\n",
       "        text-align: right;\n",
       "    }\n",
       "</style>\n",
       "<table border=\"1\" class=\"dataframe\">\n",
       "  <thead>\n",
       "    <tr style=\"text-align: right;\">\n",
       "      <th></th>\n",
       "      <th>CustomerID</th>\n",
       "      <th>Genre</th>\n",
       "      <th>Age</th>\n",
       "      <th>Annual Income (k$)</th>\n",
       "      <th>Spending Score (1-100)</th>\n",
       "    </tr>\n",
       "  </thead>\n",
       "  <tbody>\n",
       "    <tr>\n",
       "      <th>count</th>\n",
       "      <td>200.000000</td>\n",
       "      <td>200</td>\n",
       "      <td>200.000000</td>\n",
       "      <td>200.000000</td>\n",
       "      <td>200.000000</td>\n",
       "    </tr>\n",
       "    <tr>\n",
       "      <th>unique</th>\n",
       "      <td>NaN</td>\n",
       "      <td>2</td>\n",
       "      <td>NaN</td>\n",
       "      <td>NaN</td>\n",
       "      <td>NaN</td>\n",
       "    </tr>\n",
       "    <tr>\n",
       "      <th>top</th>\n",
       "      <td>NaN</td>\n",
       "      <td>Female</td>\n",
       "      <td>NaN</td>\n",
       "      <td>NaN</td>\n",
       "      <td>NaN</td>\n",
       "    </tr>\n",
       "    <tr>\n",
       "      <th>freq</th>\n",
       "      <td>NaN</td>\n",
       "      <td>112</td>\n",
       "      <td>NaN</td>\n",
       "      <td>NaN</td>\n",
       "      <td>NaN</td>\n",
       "    </tr>\n",
       "    <tr>\n",
       "      <th>mean</th>\n",
       "      <td>100.500000</td>\n",
       "      <td>NaN</td>\n",
       "      <td>38.850000</td>\n",
       "      <td>60.560000</td>\n",
       "      <td>50.200000</td>\n",
       "    </tr>\n",
       "    <tr>\n",
       "      <th>std</th>\n",
       "      <td>57.879185</td>\n",
       "      <td>NaN</td>\n",
       "      <td>13.969007</td>\n",
       "      <td>26.264721</td>\n",
       "      <td>25.823522</td>\n",
       "    </tr>\n",
       "    <tr>\n",
       "      <th>min</th>\n",
       "      <td>1.000000</td>\n",
       "      <td>NaN</td>\n",
       "      <td>18.000000</td>\n",
       "      <td>15.000000</td>\n",
       "      <td>1.000000</td>\n",
       "    </tr>\n",
       "    <tr>\n",
       "      <th>25%</th>\n",
       "      <td>50.750000</td>\n",
       "      <td>NaN</td>\n",
       "      <td>28.750000</td>\n",
       "      <td>41.500000</td>\n",
       "      <td>34.750000</td>\n",
       "    </tr>\n",
       "    <tr>\n",
       "      <th>50%</th>\n",
       "      <td>100.500000</td>\n",
       "      <td>NaN</td>\n",
       "      <td>36.000000</td>\n",
       "      <td>61.500000</td>\n",
       "      <td>50.000000</td>\n",
       "    </tr>\n",
       "    <tr>\n",
       "      <th>75%</th>\n",
       "      <td>150.250000</td>\n",
       "      <td>NaN</td>\n",
       "      <td>49.000000</td>\n",
       "      <td>78.000000</td>\n",
       "      <td>73.000000</td>\n",
       "    </tr>\n",
       "    <tr>\n",
       "      <th>max</th>\n",
       "      <td>200.000000</td>\n",
       "      <td>NaN</td>\n",
       "      <td>70.000000</td>\n",
       "      <td>137.000000</td>\n",
       "      <td>99.000000</td>\n",
       "    </tr>\n",
       "  </tbody>\n",
       "</table>\n",
       "</div>"
      ],
      "text/plain": [
       "        CustomerID   Genre         Age  Annual Income (k$)  \\\n",
       "count   200.000000     200  200.000000          200.000000   \n",
       "unique         NaN       2         NaN                 NaN   \n",
       "top            NaN  Female         NaN                 NaN   \n",
       "freq           NaN     112         NaN                 NaN   \n",
       "mean    100.500000     NaN   38.850000           60.560000   \n",
       "std      57.879185     NaN   13.969007           26.264721   \n",
       "min       1.000000     NaN   18.000000           15.000000   \n",
       "25%      50.750000     NaN   28.750000           41.500000   \n",
       "50%     100.500000     NaN   36.000000           61.500000   \n",
       "75%     150.250000     NaN   49.000000           78.000000   \n",
       "max     200.000000     NaN   70.000000          137.000000   \n",
       "\n",
       "        Spending Score (1-100)  \n",
       "count               200.000000  \n",
       "unique                     NaN  \n",
       "top                        NaN  \n",
       "freq                       NaN  \n",
       "mean                 50.200000  \n",
       "std                  25.823522  \n",
       "min                   1.000000  \n",
       "25%                  34.750000  \n",
       "50%                  50.000000  \n",
       "75%                  73.000000  \n",
       "max                  99.000000  "
      ]
     },
     "execution_count": 3,
     "metadata": {},
     "output_type": "execute_result"
    }
   ],
   "source": [
    "dataset.describe(include='all')"
   ]
  },
  {
   "cell_type": "code",
   "execution_count": 4,
   "id": "a851a2ec-acf2-4e9b-99b4-c0259d1a2f74",
   "metadata": {},
   "outputs": [
    {
     "data": {
      "text/plain": [
       "(200, 2)"
      ]
     },
     "execution_count": 4,
     "metadata": {},
     "output_type": "execute_result"
    }
   ],
   "source": [
    "X = dataset.iloc[:,[3,4]].values\n",
    "X.shape"
   ]
  },
  {
   "cell_type": "markdown",
   "id": "e74b0940-2df9-49e8-8eef-891b8d636f24",
   "metadata": {},
   "source": [
    "## Missing Data"
   ]
  },
  {
   "cell_type": "code",
   "execution_count": 5,
   "id": "d6444b49-2457-4523-95d8-d3475a160ede",
   "metadata": {},
   "outputs": [
    {
     "data": {
      "text/plain": [
       "CustomerID                0\n",
       "Genre                     0\n",
       "Age                       0\n",
       "Annual Income (k$)        0\n",
       "Spending Score (1-100)    0\n",
       "dtype: int64"
      ]
     },
     "execution_count": 5,
     "metadata": {},
     "output_type": "execute_result"
    }
   ],
   "source": [
    "dataset.isna().sum()"
   ]
  },
  {
   "cell_type": "markdown",
   "id": "2b32d0e1-1a58-484c-8c01-56ff54bd80a2",
   "metadata": {},
   "source": [
    "# Clustering"
   ]
  },
  {
   "cell_type": "markdown",
   "id": "cca7f42b-10cb-403a-b9ef-1d39faa2c6ed",
   "metadata": {},
   "source": [
    "## Dendogram"
   ]
  },
  {
   "cell_type": "code",
   "execution_count": 6,
   "id": "a36385a7-f115-4381-ba1a-13fdf33d48d1",
   "metadata": {},
   "outputs": [],
   "source": [
    "from scipy.cluster import hierarchy as sch"
   ]
  },
  {
   "cell_type": "code",
   "execution_count": 7,
   "id": "64b90211-f796-40d6-b085-2728f7a0f315",
   "metadata": {},
   "outputs": [
    {
     "data": {
      "image/png": "[encoded data removed]",
      "text/plain": [
       "<Figure size 640x480 with 1 Axes>"
      ]
     },
     "metadata": {},
     "output_type": "display_data"
    }
   ],
   "source": [
    "dendrogram = sch.dendrogram(sch.linkage(X,method='ward'))\n",
    "plt.title('Dendrogram')\n",
    "plt.xlabel('Customers')\n",
    "plt.ylabel('Eucledian Distance');"
   ]
  },
  {
   "cell_type": "markdown",
   "id": "3b578497-9bb6-409d-b62d-52e302e594fb",
   "metadata": {},
   "source": [
    "## Training & Predicting"
   ]
  },
  {
   "cell_type": "code",
   "execution_count": 9,
   "id": "dc2b0493-7293-4b29-95b3-6f7e99a56062",
   "metadata": {},
   "outputs": [],
   "source": [
    "from sklearn.cluster import AgglomerativeClustering"
   ]
  },
  {
   "cell_type": "code",
   "execution_count": 10,
   "id": "31df8e76-d045-4fdc-8fc1-2f5fcf5802da",
   "metadata": {},
   "outputs": [
    {
     "data": {
      "text/plain": [
       "(200,)"
      ]
     },
     "execution_count": 10,
     "metadata": {},
     "output_type": "execute_result"
    }
   ],
   "source": [
    "hc = AgglomerativeClustering(n_clusters=5,metric='euclidean',linkage='ward')\n",
    "y = hc.fit_predict(X)\n",
    "y.shape"
   ]
  },
  {
   "cell_type": "markdown",
   "id": "00f10104-712f-4f4f-a8c5-f88f8539c809",
   "metadata": {},
   "source": [
    "## Visualising "
   ]
  },
  {
   "cell_type": "code",
   "execution_count": 16,
   "id": "4555061a-b9ef-4bea-8e40-48c0fec80ece",
   "metadata": {},
   "outputs": [
    {
     "data": {
      "image/png": "[encoded data removed]",
      "text/plain": [
       "<Figure size 1500x1000 with 1 Axes>"
      ]
     },
     "metadata": {},
     "output_type": "display_data"
    }
   ],
   "source": [
    "plt.figure(figsize=(15,10))\n",
    "plt.scatter(X[:,0],X[:,1],c=y,cmap='viridis')\n",
    "plt.grid()"
   ]
  },
  {
   "cell_type": "code",
   "execution_count": 17,
   "id": "c05c7c40-c007-4bcc-9a47-0f6c65219202",
   "metadata": {},
   "outputs": [],
   "source": [
    "dataset['cluster'] = y"
   ]
  },
  {
   "cell_type": "code",
   "execution_count": 18,
   "id": "3ad9c3b4-6047-4982-a006-ba726abad77e",
   "metadata": {},
   "outputs": [
    {
     "name": "stdout",
     "output_type": "stream",
     "text": [
      "<class 'pandas.core.frame.DataFrame'>\n",
      "RangeIndex: 200 entries, 0 to 199\n",
      "Data columns (total 6 columns):\n",
      " #   Column                  Non-Null Count  Dtype \n",
      "---  ------                  --------------  ----- \n",
      " 0   CustomerID              200 non-null    int64 \n",
      " 1   Genre                   200 non-null    object\n",
      " 2   Age                     200 non-null    int64 \n",
      " 3   Annual Income (k$)      200 non-null    int64 \n",
      " 4   Spending Score (1-100)  200 non-null    int64 \n",
      " 5   cluster                 200 non-null    int64 \n",
      "dtypes: int64(5), object(1)\n",
      "memory usage: 9.5+ KB\n"
     ]
    }
   ],
   "source": [
    "dataset.info()"
   ]
  },
  {
   "cell_type": "code",
   "execution_count": 19,
   "id": "17dde443-1bbc-4852-80ab-9135e0ef7a3f",
   "metadata": {},
   "outputs": [
    {
     "data": {
      "text/html": [
       "<div>\n",
       "<style scoped>\n",
       "    .dataframe tbody tr th:only-of-type {\n",
       "        vertical-align: middle;\n",
       "    }\n",
       "\n",
       "    .dataframe tbody tr th {\n",
       "        vertical-align: top;\n",
       "    }\n",
       "\n",
       "    .dataframe thead tr th {\n",
       "        text-align: left;\n",
       "    }\n",
       "\n",
       "    .dataframe thead tr:last-of-type th {\n",
       "        text-align: right;\n",
       "    }\n",
       "</style>\n",
       "<table border=\"1\" class=\"dataframe\">\n",
       "  <thead>\n",
       "    <tr>\n",
       "      <th></th>\n",
       "      <th colspan=\"3\" halign=\"left\">median</th>\n",
       "      <th colspan=\"3\" halign=\"left\">max</th>\n",
       "      <th colspan=\"3\" halign=\"left\">min</th>\n",
       "      <th colspan=\"3\" halign=\"left\">mean</th>\n",
       "    </tr>\n",
       "    <tr>\n",
       "      <th></th>\n",
       "      <th>Age</th>\n",
       "      <th>Annual Income (k$)</th>\n",
       "      <th>Spending Score (1-100)</th>\n",
       "      <th>Age</th>\n",
       "      <th>Annual Income (k$)</th>\n",
       "      <th>Spending Score (1-100)</th>\n",
       "      <th>Age</th>\n",
       "      <th>Annual Income (k$)</th>\n",
       "      <th>Spending Score (1-100)</th>\n",
       "      <th>Age</th>\n",
       "      <th>Annual Income (k$)</th>\n",
       "      <th>Spending Score (1-100)</th>\n",
       "    </tr>\n",
       "    <tr>\n",
       "      <th>cluster</th>\n",
       "      <th></th>\n",
       "      <th></th>\n",
       "      <th></th>\n",
       "      <th></th>\n",
       "      <th></th>\n",
       "      <th></th>\n",
       "      <th></th>\n",
       "      <th></th>\n",
       "      <th></th>\n",
       "      <th></th>\n",
       "      <th></th>\n",
       "      <th></th>\n",
       "    </tr>\n",
       "  </thead>\n",
       "  <tbody>\n",
       "    <tr>\n",
       "      <th>0</th>\n",
       "      <td>41.5</td>\n",
       "      <td>86.5</td>\n",
       "      <td>15.0</td>\n",
       "      <td>59</td>\n",
       "      <td>137</td>\n",
       "      <td>39</td>\n",
       "      <td>19</td>\n",
       "      <td>71</td>\n",
       "      <td>1</td>\n",
       "      <td>41.000000</td>\n",
       "      <td>89.406250</td>\n",
       "      <td>15.593750</td>\n",
       "    </tr>\n",
       "    <tr>\n",
       "      <th>1</th>\n",
       "      <td>46.0</td>\n",
       "      <td>57.0</td>\n",
       "      <td>49.0</td>\n",
       "      <td>70</td>\n",
       "      <td>79</td>\n",
       "      <td>65</td>\n",
       "      <td>18</td>\n",
       "      <td>39</td>\n",
       "      <td>29</td>\n",
       "      <td>42.482353</td>\n",
       "      <td>55.811765</td>\n",
       "      <td>49.129412</td>\n",
       "    </tr>\n",
       "    <tr>\n",
       "      <th>2</th>\n",
       "      <td>32.0</td>\n",
       "      <td>79.0</td>\n",
       "      <td>83.0</td>\n",
       "      <td>40</td>\n",
       "      <td>137</td>\n",
       "      <td>97</td>\n",
       "      <td>27</td>\n",
       "      <td>69</td>\n",
       "      <td>63</td>\n",
       "      <td>32.692308</td>\n",
       "      <td>86.538462</td>\n",
       "      <td>82.128205</td>\n",
       "    </tr>\n",
       "    <tr>\n",
       "      <th>3</th>\n",
       "      <td>23.0</td>\n",
       "      <td>24.0</td>\n",
       "      <td>77.0</td>\n",
       "      <td>35</td>\n",
       "      <td>38</td>\n",
       "      <td>99</td>\n",
       "      <td>18</td>\n",
       "      <td>15</td>\n",
       "      <td>61</td>\n",
       "      <td>25.333333</td>\n",
       "      <td>25.095238</td>\n",
       "      <td>80.047619</td>\n",
       "    </tr>\n",
       "    <tr>\n",
       "      <th>4</th>\n",
       "      <td>46.0</td>\n",
       "      <td>25.0</td>\n",
       "      <td>17.0</td>\n",
       "      <td>67</td>\n",
       "      <td>39</td>\n",
       "      <td>40</td>\n",
       "      <td>19</td>\n",
       "      <td>15</td>\n",
       "      <td>3</td>\n",
       "      <td>45.217391</td>\n",
       "      <td>26.304348</td>\n",
       "      <td>20.913043</td>\n",
       "    </tr>\n",
       "  </tbody>\n",
       "</table>\n",
       "</div>"
      ],
      "text/plain": [
       "        median                                           max  \\\n",
       "           Age Annual Income (k$) Spending Score (1-100) Age   \n",
       "cluster                                                        \n",
       "0         41.5               86.5                   15.0  59   \n",
       "1         46.0               57.0                   49.0  70   \n",
       "2         32.0               79.0                   83.0  40   \n",
       "3         23.0               24.0                   77.0  35   \n",
       "4         46.0               25.0                   17.0  67   \n",
       "\n",
       "                                                  min                     \\\n",
       "        Annual Income (k$) Spending Score (1-100) Age Annual Income (k$)   \n",
       "cluster                                                                    \n",
       "0                      137                     39  19                 71   \n",
       "1                       79                     65  18                 39   \n",
       "2                      137                     97  27                 69   \n",
       "3                       38                     99  18                 15   \n",
       "4                       39                     40  19                 15   \n",
       "\n",
       "                                     mean                     \\\n",
       "        Spending Score (1-100)        Age Annual Income (k$)   \n",
       "cluster                                                        \n",
       "0                            1  41.000000          89.406250   \n",
       "1                           29  42.482353          55.811765   \n",
       "2                           63  32.692308          86.538462   \n",
       "3                           61  25.333333          25.095238   \n",
       "4                            3  45.217391          26.304348   \n",
       "\n",
       "                                \n",
       "        Spending Score (1-100)  \n",
       "cluster                         \n",
       "0                    15.593750  \n",
       "1                    49.129412  \n",
       "2                    82.128205  \n",
       "3                    80.047619  \n",
       "4                    20.913043  "
      ]
     },
     "execution_count": 19,
     "metadata": {},
     "output_type": "execute_result"
    }
   ],
   "source": [
    "dataset.pivot_table(values=['Age','Annual Income (k$)','Spending Score (1-100)'],\n",
    "                    index=['cluster'],aggfunc=['median','max','min','mean'])"
   ]
  },
  {
   "cell_type": "code",
   "execution_count": 20,
   "id": "22767357-4627-49ef-813f-8d51204ffbb0",
   "metadata": {},
   "outputs": [
    {
     "data": {
      "text/html": [
       "<div>\n",
       "<style scoped>\n",
       "    .dataframe tbody tr th:only-of-type {\n",
       "        vertical-align: middle;\n",
       "    }\n",
       "\n",
       "    .dataframe tbody tr th {\n",
       "        vertical-align: top;\n",
       "    }\n",
       "\n",
       "    .dataframe thead th {\n",
       "        text-align: right;\n",
       "    }\n",
       "</style>\n",
       "<table border=\"1\" class=\"dataframe\">\n",
       "  <thead>\n",
       "    <tr style=\"text-align: right;\">\n",
       "      <th>Genre</th>\n",
       "      <th>Female</th>\n",
       "      <th>Male</th>\n",
       "      <th>Prop Fem</th>\n",
       "    </tr>\n",
       "    <tr>\n",
       "      <th>cluster</th>\n",
       "      <th></th>\n",
       "      <th></th>\n",
       "      <th></th>\n",
       "    </tr>\n",
       "  </thead>\n",
       "  <tbody>\n",
       "    <tr>\n",
       "      <th>0</th>\n",
       "      <td>14</td>\n",
       "      <td>18</td>\n",
       "      <td>0.437500</td>\n",
       "    </tr>\n",
       "    <tr>\n",
       "      <th>1</th>\n",
       "      <td>51</td>\n",
       "      <td>34</td>\n",
       "      <td>0.600000</td>\n",
       "    </tr>\n",
       "    <tr>\n",
       "      <th>2</th>\n",
       "      <td>21</td>\n",
       "      <td>18</td>\n",
       "      <td>0.538462</td>\n",
       "    </tr>\n",
       "    <tr>\n",
       "      <th>3</th>\n",
       "      <td>12</td>\n",
       "      <td>9</td>\n",
       "      <td>0.571429</td>\n",
       "    </tr>\n",
       "    <tr>\n",
       "      <th>4</th>\n",
       "      <td>14</td>\n",
       "      <td>9</td>\n",
       "      <td>0.608696</td>\n",
       "    </tr>\n",
       "  </tbody>\n",
       "</table>\n",
       "</div>"
      ],
      "text/plain": [
       "Genre    Female  Male  Prop Fem\n",
       "cluster                        \n",
       "0            14    18  0.437500\n",
       "1            51    34  0.600000\n",
       "2            21    18  0.538462\n",
       "3            12     9  0.571429\n",
       "4            14     9  0.608696"
      ]
     },
     "execution_count": 20,
     "metadata": {},
     "output_type": "execute_result"
    }
   ],
   "source": [
    "genre_summ = dataset.groupby(['cluster','Genre']).count()[['CustomerID']].unstack(level=1)['CustomerID']\n",
    "genre_summ['Prop Fem'] = genre_summ['Female']/genre_summ.sum(axis=1)\n",
    "genre_summ"
   ]
  }
 ],
 "metadata": {
  "kernelspec": {
   "display_name": "Python 3 (ipykernel)",
   "language": "python",
   "name": "python3"
  },
  "language_info": {
   "codemirror_mode": {
    "name": "ipython",
    "version": 3
   },
   "file_extension": ".py",
   "mimetype": "text/x-python",
   "name": "python",
   "nbconvert_exporter": "python",
   "pygments_lexer": "ipython3",
   "version": "3.12.4"
  }
 },
 "nbformat": 4,
 "nbformat_minor": 5
}
